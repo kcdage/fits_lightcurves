{
 "cells": [
  {
   "cell_type": "code",
   "execution_count": 4,
   "metadata": {
    "collapsed": false
   },
   "outputs": [],
   "source": [
    "import numpy as np\n",
    "import scipy.stats as st\n",
    "from astropy.io import fits,ascii\n",
    "from astropy.time import Time\n",
    "import matplotlib.pylab as plt\n",
    "import matplotlib.gridspec as gridspec\n",
    "from matplotlib import rc\n",
    "rc('font',**{'family':'sans-serif','sans-serif':['Helvetica']})\n",
    "rc('text', usetex=True)\n",
    "rc('font', family='serif')\n",
    "\n",
    "import palettable\n",
    "#install this package from here: https://jiffyclub.github.io/palettable/cubehelix/\n",
    "\n",
    "%matplotlib inline"
   ]
  },
  {
   "cell_type": "markdown",
   "metadata": {},
   "source": [
    "# Example of loading fits file and plotting lightcurve"
   ]
  },
  {
   "cell_type": "code",
   "execution_count": 5,
   "metadata": {
    "collapsed": false
   },
   "outputs": [],
   "source": [
    "lc_319_5ks = fits.open('1399_319_C_sub_lc_5ks.fits')[1].data\n",
    "lc_319_1ks = fits.open('1399_319_C_sub_lc_1ks.fits')[1].data\n",
    "\n"
   ]
  },
  {
   "cell_type": "code",
   "execution_count": 8,
   "metadata": {
    "collapsed": false
   },
   "outputs": [
    {
     "data": {
      "image/png": "[encoded data removed]",
      "text/plain": [
       "<matplotlib.figure.Figure at 0x7fbb0b705f10>"
      ]
     },
     "metadata": {},
     "output_type": "display_data"
    }
   ],
   "source": [
    "\n",
    "plt.figure(figsize=(8,4))\n",
    "plt.errorbar((lc_319_1ks['TIME']-lc_319_1ks['TIME'][0])/1000,lc_319_1ks['NET_RATE'],lc_319_1ks['ERR_RATE'],fmt='.', color=palettable.cubehelix.cubehelix3_16.mpl_colors[12],alpha=0.3, label='1ks')\n",
    "plt.errorbar((lc_319_5ks['TIME']-lc_319_5ks['TIME'][0])/1000,lc_319_5ks['NET_RATE'],lc_319_5ks['ERR_RATE'], color=palettable.cubehelix.cubehelix3_16.mpl_colors[9], fmt='.',alpha=1.0, label='5ks')\n",
    "plt.title('Lightcurve for Obsid 319 1399 ULX 3')\n",
    "plt.legend(loc=1,numpoints=1,fontsize=12)\n",
    "plt.xlabel('Time (ks)')\n",
    "plt.ylabel('Rate (ct/s)', fontsize=14)\n",
    "plt.yscale('log')\n",
    "\n",
    "#formatting for tick marks\n",
    "plt.minorticks_on()\n",
    "plt.tick_params(axis='both', which='major', labelsize=14)\n",
    "plt.tick_params(axis='both', which='major', length=9)\n",
    "plt.tick_params(axis='both', which='minor', length=4.5)\n",
    "plt.tick_params(axis='both', which='both',direction='in',right='on',top='on')\n",
    "#plt.savefig('lc_319_1ks_5ks.pdf')\n"
   ]
  },
  {
   "cell_type": "code",
   "execution_count": null,
   "metadata": {
    "collapsed": false
   },
   "outputs": [],
   "source": []
  },
  {
   "cell_type": "code",
   "execution_count": null,
   "metadata": {
    "collapsed": false
   },
   "outputs": [],
   "source": []
  },
  {
   "cell_type": "code",
   "execution_count": null,
   "metadata": {
    "collapsed": true
   },
   "outputs": [],
   "source": []
  },
  {
   "cell_type": "code",
   "execution_count": null,
   "metadata": {
    "collapsed": false
   },
   "outputs": [],
   "source": []
  },
  {
   "cell_type": "code",
   "execution_count": null,
   "metadata": {
    "collapsed": true
   },
   "outputs": [],
   "source": []
  },
  {
   "cell_type": "code",
   "execution_count": null,
   "metadata": {
    "collapsed": false
   },
   "outputs": [],
   "source": []
  },
  {
   "cell_type": "code",
   "execution_count": null,
   "metadata": {
    "collapsed": true
   },
   "outputs": [],
   "source": []
  }
 ],
 "metadata": {
  "kernelspec": {
   "display_name": "Python 2",
   "language": "python",
   "name": "python2"
  },
  "language_info": {
   "codemirror_mode": {
    "name": "ipython",
    "version": 2
   },
   "file_extension": ".py",
   "mimetype": "text/x-python",
   "name": "python",
   "nbconvert_exporter": "python",
   "pygments_lexer": "ipython2",
   "version": "2.7.13"
  }
 },
 "nbformat": 4,
 "nbformat_minor": 2
}
